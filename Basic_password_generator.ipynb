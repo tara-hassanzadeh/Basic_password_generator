{
  "nbformat": 4,
  "nbformat_minor": 0,
  "metadata": {
    "colab": {
      "provenance": [],
      "authorship_tag": "ABX9TyO1++3z7x1tqXHIqHKra//u",
      "include_colab_link": true
    },
    "kernelspec": {
      "name": "python3",
      "display_name": "Python 3"
    },
    "language_info": {
      "name": "python"
    }
  },
  "cells": [
    {
      "cell_type": "markdown",
      "metadata": {
        "id": "view-in-github",
        "colab_type": "text"
      },
      "source": [
        "<a href=\"https://colab.research.google.com/github/tara-hassanzadeh/Basic_password_generator/blob/main/Basic_password_generator.ipynb\" target=\"_parent\"><img src=\"https://colab.research.google.com/assets/colab-badge.svg\" alt=\"Open In Colab\"/></a>"
      ]
    },
    {
      "cell_type": "markdown",
      "source": [
        "Basic password generator"
      ],
      "metadata": {
        "id": "8ovxG7Fr6LvH"
      }
    },
    {
      "cell_type": "code",
      "execution_count": 3,
      "metadata": {
        "colab": {
          "base_uri": "https://localhost:8080/"
        },
        "id": "9vYNFOUE6HSI",
        "outputId": "7ae6fc59-5501-46e1-c147-2bdbaeab04ea"
      },
      "outputs": [
        {
          "output_type": "stream",
          "name": "stdout",
          "text": [
            "Enter the length of the password: 12\n",
            "Generated Password: cQitxCOhXeGw\n"
          ]
        }
      ],
      "source": [
        "import random\n",
        "import string\n",
        "def genetaror_password(length):\n",
        "    characters = string.ascii_letters + string.digits\n",
        "    password = ''.join(random.choice(characters) for _ in range(length))\n",
        "    return password\n",
        "if __name__=='__main__':\n",
        "    try:\n",
        "        password_length = int(input(\"Enter the length of the password: \"))\n",
        "        if password_length<=0:\n",
        "          print(\"length must be greater than zero.\")\n",
        "        else:\n",
        "            password=genetaror_password(password_length)\n",
        "            print(\"Generated Password:\",password)\n",
        "    except ValueError:\n",
        "        print(\"Invalid input. Please enter a valid number.\")"
      ]
    }
  ]
}